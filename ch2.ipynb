{
 "cells": [
  {
   "cell_type": "code",
   "execution_count": 25,
   "id": "e386b4ae",
   "metadata": {},
   "outputs": [],
   "source": [
    "import numpy as np \n",
    "import matplotlib.pyplot as plt"
   ]
  },
  {
   "cell_type": "code",
   "execution_count": null,
   "id": "7853d6b6",
   "metadata": {},
   "outputs": [],
   "source": [
    "y=[21,2,98,8,3,8,0,9,0]\n",
    "#choose randomly 2 no.s from y\n",
    "x1=np.random.choice(y,2)\n",
    "print(x1)"
   ]
  },
  {
   "cell_type": "markdown",
   "id": "11fa9d4c",
   "metadata": {},
   "source": [
    "## no. of heads if n coins fliped, probability of success p in k trial"
   ]
  },
  {
   "cell_type": "code",
   "execution_count": null,
   "id": "4047a27a",
   "metadata": {},
   "outputs": [],
   "source": [
    "n,p,k=100,0.2,5\n",
    "#no. of heads if n coins fliped, probability of success p in k trial\n",
    "x2 = np.random.binomial(n,p,k)\n",
    "print(x2)"
   ]
  },
  {
   "cell_type": "markdown",
   "id": "d5e87892",
   "metadata": {},
   "source": [
    "## Random output of some probabilty p as no. of flips increases from 1 to 1000"
   ]
  },
  {
   "cell_type": "code",
   "execution_count": null,
   "id": "3b88a7f8",
   "metadata": {},
   "outputs": [],
   "source": [
    "phat=[]\n",
    "n=1000\n",
    "p=0.2\n",
    "def run_binom(n,p):\n",
    "    for i in range(1,n):\n",
    "        phat.append(np.random.binomial(i,p,1)/i) #no. of outcomes divided by total no. of outcomes\n",
    "    return phat\n",
    "\n",
    "phat = run_binom(n,p)\n",
    "len(phat)\n",
    "plt.scatter(range(1,n),phat,s=10) # s=marker size\n",
    "plt.xlabel(\"n\",size=14)\n",
    "plt.ylabel(\"Proportion\",size=14)"
   ]
  },
  {
   "cell_type": "markdown",
   "id": "487e09ce",
   "metadata": {},
   "source": [
    "## Probablity of y no. of Y's from total of n no. of choices of Y and Y' with probabilty of Y as p. (In a binomial distribution)"
   ]
  },
  {
   "cell_type": "code",
   "execution_count": null,
   "id": "aae7134d",
   "metadata": {},
   "outputs": [],
   "source": [
    "import numpy as np\n",
    "import matplotlib.pyplot as plt\n",
    "from scipy.stats import binom"
   ]
  },
  {
   "cell_type": "code",
   "execution_count": 29,
   "id": "0adb6b71",
   "metadata": {},
   "outputs": [
    {
     "data": {
      "text/plain": [
       "0.20615843020800018"
      ]
     },
     "execution_count": 29,
     "metadata": {},
     "output_type": "execute_result"
    }
   ],
   "source": [
    "y=1\n",
    "n=12\n",
    "p=0.2\n",
    "binom.pmf(y,n,p)"
   ]
  },
  {
   "cell_type": "code",
   "execution_count": null,
   "id": "a1c7884a",
   "metadata": {},
   "outputs": [],
   "source": [
    "n=100\n",
    "p=0.2\n",
    "a1=[]\n",
    "for y in range(n):\n",
    "    a1.append(binom.pmf(y,n,p))\n",
    "plt.scatter(range(1,n+1),a1,s=10)"
   ]
  },
  {
   "cell_type": "code",
   "execution_count": 60,
   "id": "4f808214",
   "metadata": {},
   "outputs": [
    {
     "data": {
      "text/plain": [
       "Text(0, 0.5, 'P(y)')"
      ]
     },
     "execution_count": 60,
     "metadata": {},
     "output_type": "execute_result"
    },
    {
     "data": {
      "image/png": "[encoded data removed]",
      "text/plain": [
       "<Figure size 640x480 with 1 Axes>"
      ]
     },
     "metadata": {},
     "output_type": "display_data"
    }
   ],
   "source": [
    "fig, ax =plt.subplots(1,1)\n",
    "n,p=12,0.2\n",
    "y=list(range(0,13))\n",
    "ax.vlines(y,0,binom.pmf(y,n,p),colors='r', lw=10, alpha=0.7) # vertices lines with entries on x axis from list y. Beginnings of lines should be 0, ending \n",
    "# should respective value in the array binom.pmf(y,n,p) {if scalar provided all lines will be of same lenght} \n",
    "# {lw = width of lines,alpha= darkness of color range from 0 to 1}\n",
    "plt.xticks(np.arange(min(y),max(y)+1,1.0)) #x-axis from min(y) to max(y) with distance of 1.0\n",
    "plt.xlabel(\"y\",size=14)\n",
    "plt.ylabel(\"P(y)\",size=14)"
   ]
  },
  {
   "cell_type": "code",
   "execution_count": 67,
   "id": "f9309415",
   "metadata": {},
   "outputs": [
    {
     "name": "stdout",
     "output_type": "stream",
     "text": [
      "2.4000000000000004 1.9200000000000004 0.43301270189221924 0.02083333333333323 <class 'numpy.ndarray'>\n"
     ]
    }
   ],
   "source": [
    "mean,variance,skewness,kurtosis = binom.stats(n,p,moments='mvsk') # 'mvsk' =mean,variance,skewness,kurtosis\n",
    "print(mean,variance,skewness,kurtosis,type(mean))"
   ]
  },
  {
   "cell_type": "code",
   "execution_count": null,
   "id": "ee590709",
   "metadata": {},
   "outputs": [],
   "source": []
  }
 ],
 "metadata": {
  "kernelspec": {
   "display_name": "Python 3 (ipykernel)",
   "language": "python",
   "name": "python3"
  },
  "language_info": {
   "codemirror_mode": {
    "name": "ipython",
    "version": 3
   },
   "file_extension": ".py",
   "mimetype": "text/x-python",
   "name": "python",
   "nbconvert_exporter": "python",
   "pygments_lexer": "ipython3",
   "version": "3.9.6"
  }
 },
 "nbformat": 4,
 "nbformat_minor": 5
}
